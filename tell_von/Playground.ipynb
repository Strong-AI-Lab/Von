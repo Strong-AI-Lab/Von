{
 "cells": [
  {
   "cell_type": "markdown",
   "metadata": {},
   "source": [
    "Experiments to see which of the python GUI toolsets to used. tkinter etc are as horrible as tcl/tk was"
   ]
  },
  {
   "cell_type": "code",
   "execution_count": null,
   "metadata": {},
   "outputs": [],
   "source": [
    "! pip install wxPython"
   ]
  },
  {
   "cell_type": "code",
   "execution_count": 2,
   "metadata": {},
   "outputs": [
    {
     "data": {
      "text/plain": [
       "0"
      ]
     },
     "execution_count": 2,
     "metadata": {},
     "output_type": "execute_result"
    }
   ],
   "source": [
    "import wx\n",
    "\n",
    "app = wx.App(False)  # Create a new app, don't redirect stdout/stderr to a window.\n",
    "frame = wx.Frame(None, wx.ID_ANY, \"Hello World\")  # A Frame is a top-level window.\n",
    "frame.Show(True)  # Show the frame.\n",
    "app.MainLoop()  # Start the event loop.\n"
   ]
  },
  {
   "cell_type": "code",
   "execution_count": 1,
   "metadata": {},
   "outputs": [
    {
     "name": "stdout",
     "output_type": "stream",
     "text": [
      "Submitted: hello\n"
     ]
    },
    {
     "ename": "",
     "evalue": "",
     "output_type": "error",
     "traceback": [
      "\u001b[1;31mThe Kernel crashed while executing code in the current cell or a previous cell. \n",
      "\u001b[1;31mPlease review the code in the cell(s) to identify a possible cause of the failure. \n",
      "\u001b[1;31mClick <a href='https://aka.ms/vscodeJupyterKernelCrash'>here</a> for more info. \n",
      "\u001b[1;31mView Jupyter <a href='command:jupyter.viewOutput'>log</a> for further details."
     ]
    }
   ],
   "source": [
    "import wx\n",
    "\n",
    "class MyFrame(wx.Frame):\n",
    "    def __init__(self, parent, title):\n",
    "        super(MyFrame, self).__init__(parent, title=title, size=(640, 480))\n",
    "        \n",
    "        # Panel to put the controls on.\n",
    "        panel = wx.Panel(self)\n",
    "        \n",
    "        # Text area (multi-line text box)\n",
    "        self.text_area = wx.TextCtrl(panel, pos=(20, 20), size=(250, 150), style=wx.TE_MULTILINE)\n",
    "        \n",
    "        # Submit button\n",
    "        self.submit_button = wx.Button(panel, label='Submit', pos=(20, 80))\n",
    "        self.submit_button.Bind(wx.EVT_BUTTON, self.on_submit)\n",
    "        \n",
    "        # Exit button\n",
    "        self.exit_button = wx.Button(panel, label='Exit', pos=(150, 80))\n",
    "        self.exit_button.Bind(wx.EVT_BUTTON, self.on_exit)\n",
    "        \n",
    "    def on_submit(self, event):\n",
    "        # Action to be taken when submit button is clicked\n",
    "        user_input = self.text_area.GetValue()  # Get the text from text area\n",
    "        print(f\"Submitted: {user_input}\")  # For demonstration, print it to stdout\n",
    "\n",
    "        # Change the background color of the text area to light green\n",
    "        self.text_area.SetBackgroundColour(wx.Colour(144, 238, 144))  # Light green color\n",
    "        self.text_area.Refresh()  # Refresh the text area to apply the new color\n",
    "        \n",
    "    def on_exit(self, event):\n",
    "        # Close the frame\n",
    "        self.Close()\n",
    "\n",
    "app = wx.App(False)\n",
    "frame = MyFrame(None, \"Hello World\")\n",
    "frame.Show(True)\n",
    "app.MainLoop()"
   ]
  }
 ],
 "metadata": {
  "kernelspec": {
   "display_name": ".venv",
   "language": "python",
   "name": "python3"
  },
  "language_info": {
   "codemirror_mode": {
    "name": "ipython",
    "version": 3
   },
   "file_extension": ".py",
   "mimetype": "text/x-python",
   "name": "python",
   "nbconvert_exporter": "python",
   "pygments_lexer": "ipython3",
   "version": "3.12.4"
  }
 },
 "nbformat": 4,
 "nbformat_minor": 2
}
