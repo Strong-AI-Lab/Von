{
 "cells": [
  {
   "cell_type": "markdown",
   "metadata": {},
   "source": [
    "Experiments to see which of the python GUI toolsets to used. tkinter etc are as horrible as tcl/tk was"
   ]
  },
  {
   "cell_type": "code",
   "execution_count": null,
   "metadata": {},
   "outputs": [],
   "source": [
    "! pip install wxPython"
   ]
  },
  {
   "cell_type": "code",
   "execution_count": 2,
   "metadata": {},
   "outputs": [
    {
     "data": {
      "text/plain": [
       "0"
      ]
     },
     "execution_count": 2,
     "metadata": {},
     "output_type": "execute_result"
    }
   ],
   "source": [
    "import wx\n",
    "\n",
    "app = wx.App(False)  # Create a new app, don't redirect stdout/stderr to a window.\n",
    "frame = wx.Frame(None, wx.ID_ANY, \"Hello World\")  # A Frame is a top-level window.\n",
    "frame.Show(True)  # Show the frame.\n",
    "app.MainLoop()  # Start the event loop.\n"
   ]
  },
  {
   "cell_type": "code",
   "execution_count": null,
   "metadata": {},
   "outputs": [],
   "source": [
    "import wx\n",
    "\n",
    "class MyFrame(wx.Frame):\n",
    "    def __init__(self, parent, title):\n",
    "        super(MyFrame, self).__init__(parent, title=title, size=(640, 480))\n",
    "        \n",
    "        # Panel to put the controls on.\n",
    "        panel = wx.Panel(self)\n",
    "        \n",
    "        # Text area (multi-line text box)\n",
    "        self.text_area = wx.TextCtrl(panel, pos=(20, 20), size=(250, 150), style=wx.TE_MULTILINE)\n",
    "        \n",
    "        # Submit button\n",
    "        self.submit_button = wx.Button(panel, label='Submit', pos=(20, 80))\n",
    "        self.submit_button.Bind(wx.EVT_BUTTON, self.on_submit)\n",
    "        \n",
    "        # Exit button\n",
    "        self.exit_button = wx.Button(panel, label='Exit', pos=(150, 80))\n",
    "        self.exit_button.Bind(wx.EVT_BUTTON, self.on_exit)\n",
    "        \n",
    "    def on_submit(self, event):\n",
    "        # Action to be taken when submit button is clicked\n",
    "        user_input = self.text_area.GetValue()  # Get the text from text area\n",
    "        print(f\"Submitted: {user_input}\")  # For demonstration, print it to stdout\n",
    "\n",
    "        # Change the background color of the text area to light green\n",
    "        self.text_area.SetBackgroundColour(wx.Colour(144, 238, 144))  # Light green color\n",
    "        self.text_area.Refresh()  # Refresh the text area to apply the new color\n",
    "        \n",
    "    def on_exit(self, event):\n",
    "        # Close the frame\n",
    "        self.Close()\n",
    "\n",
    "app = wx.App(False)\n",
    "frame = MyFrame(None, \"Hello World\")\n",
    "frame.Show(True)\n",
    "app.MainLoop()"
   ]
  },
  {
   "cell_type": "code",
   "execution_count": 1,
   "metadata": {},
   "outputs": [
    {
     "name": "stdout",
     "output_type": "stream",
     "text": [
      "sys.prefix: c:\\Users\\witbr\\OneDrive\\Development\\External\\SAILab\\Von\\.venv\n",
      "sys.exec_prefix: c:\\Users\\witbr\\OneDrive\\Development\\External\\SAILab\\Von\\.venv\n",
      "sys.base_prefix: C:\\Users\\witbr\\AppData\\Local\\Programs\\Python\\Python312\n",
      "sys.path: [\n",
      "    c:\\Users\\witbr\\OneDrive\\Development\\External\\SAILab\\Von,\n",
      "    c:\\vonlib,\n",
      "    c:\\ruminate,\n",
      "    c:\\paper_recommender,\n",
      "    c:\\tell_von,\n",
      "    c:\\nrn\\lib\\python,\n",
      "    C:\\Users\\witbr\\AppData\\Local\\Programs\\Python\\Python312\\python312.zip,\n",
      "    C:\\Users\\witbr\\AppData\\Local\\Programs\\Python\\Python312\\DLLs,\n",
      "    C:\\Users\\witbr\\AppData\\Local\\Programs\\Python\\Python312\\Lib,\n",
      "    C:\\Users\\witbr\\AppData\\Local\\Programs\\Python\\Python312,\n",
      "    c:\\Users\\witbr\\OneDrive\\Development\\External\\SAILab\\Von\\.venv,\n",
      "    ,\n",
      "    c:\\Users\\witbr\\OneDrive\\Development\\External\\SAILab\\Von\\.venv\\Lib\\site-packages,\n",
      "    c:\\Users\\witbr\\OneDrive\\Development\\External\\SAILab\\Von\\.venv\\Lib\\site-packages\\win32,\n",
      "    c:\\Users\\witbr\\OneDrive\\Development\\External\\SAILab\\Von\\.venv\\Lib\\site-packages\\win32\\lib,\n",
      "    c:\\Users\\witbr\\OneDrive\\Development\\External\\SAILab\\Von\\.venv\\Lib\\site-packages\\Pythonwin\n",
      "]\n"
     ]
    }
   ],
   "source": [
    "import sys\n",
    "print(\"sys.prefix:\", sys.prefix)\n",
    "print(\"sys.exec_prefix:\", sys.exec_prefix)\n",
    "print(\"sys.base_prefix:\", sys.base_prefix)\n",
    "print(\"sys.path:\", '[\\n    ' + ',\\n    '.join(sys.path) + '\\n]')"
   ]
  },
  {
   "cell_type": "code",
   "execution_count": null,
   "metadata": {},
   "outputs": [],
   "source": [
    "import sys\n",
    "print(\"sys.prefix:\", sys.prefix)\n",
    "print(\"sys.exec_prefix:\", sys.exec_prefix)\n",
    "print(\"sys.base_prefix:\", sys.base_prefix)"
   ]
  },
  {
   "cell_type": "code",
   "execution_count": null,
   "metadata": {},
   "outputs": [],
   "source": [
    "import sys\n",
    "print(\"sys.prefix:\", sys.prefix)\n",
    "print(\"sys.exec_prefix:\", sys.exec_prefix)\n",
    "print(\"sys.base_prefix:\", sys.base_prefix)"
   ]
  },
  {
   "cell_type": "code",
   "execution_count": 1,
   "metadata": {},
   "outputs": [
    {
     "name": "stdout",
     "output_type": "stream",
     "text": [
      ".;.\\vonlib;.\\ruminate;.\\paper_recommender;.\\tell_von;c:\\nrn\\lib\\python\n",
      "['c:\\\\Users\\\\witbr\\\\OneDrive\\\\Development\\\\External\\\\SAILab\\\\Von',\n",
      " 'c:\\\\Users\\\\witbr\\\\OneDrive\\\\Development\\\\External\\\\SAILab\\\\Von\\\\vonlib',\n",
      " 'c:\\\\Users\\\\witbr\\\\OneDrive\\\\Development\\\\External\\\\SAILab\\\\Von\\\\ruminate',\n",
      " 'c:\\\\Users\\\\witbr\\\\OneDrive\\\\Development\\\\External\\\\SAILab\\\\Von\\\\paper_recommender',\n",
      " 'c:\\\\Users\\\\witbr\\\\OneDrive\\\\Development\\\\External\\\\SAILab\\\\Von\\\\tell_von',\n",
      " 'c:\\\\nrn\\\\lib\\\\python',\n",
      " 'C:\\\\Users\\\\witbr\\\\AppData\\\\Local\\\\Programs\\\\Python\\\\Python312\\\\python312.zip',\n",
      " 'C:\\\\Users\\\\witbr\\\\AppData\\\\Local\\\\Programs\\\\Python\\\\Python312\\\\DLLs',\n",
      " 'C:\\\\Users\\\\witbr\\\\AppData\\\\Local\\\\Programs\\\\Python\\\\Python312\\\\Lib',\n",
      " 'C:\\\\Users\\\\witbr\\\\AppData\\\\Local\\\\Programs\\\\Python\\\\Python312',\n",
      " 'c:\\\\Users\\\\witbr\\\\OneDrive\\\\Development\\\\External\\\\SAILab\\\\Von\\\\.venv',\n",
      " '',\n",
      " 'c:\\\\Users\\\\witbr\\\\OneDrive\\\\Development\\\\External\\\\SAILab\\\\Von\\\\.venv\\\\Lib\\\\site-packages',\n",
      " 'c:\\\\Users\\\\witbr\\\\OneDrive\\\\Development\\\\External\\\\SAILab\\\\Von\\\\.venv\\\\Lib\\\\site-packages\\\\win32',\n",
      " 'c:\\\\Users\\\\witbr\\\\OneDrive\\\\Development\\\\External\\\\SAILab\\\\Von\\\\.venv\\\\Lib\\\\site-packages\\\\win32\\\\lib',\n",
      " 'c:\\\\Users\\\\witbr\\\\OneDrive\\\\Development\\\\External\\\\SAILab\\\\Von\\\\.venv\\\\Lib\\\\site-packages\\\\Pythonwin']\n"
     ]
    }
   ],
   "source": [
    "import sys\n",
    "import os\n",
    "from pprint import pprint\n",
    "print(os.environ['PYTHONPATH'])\n",
    "pprint(sys.path)"
   ]
  }
 ],
 "metadata": {
  "kernelspec": {
   "display_name": ".venv",
   "language": "python",
   "name": "python3"
  },
  "language_info": {
   "codemirror_mode": {
    "name": "ipython",
    "version": 3
   },
   "file_extension": ".py",
   "mimetype": "text/x-python",
   "name": "python",
   "nbconvert_exporter": "python",
   "pygments_lexer": "ipython3",
   "version": "3.12.4"
  }
 },
 "nbformat": 4,
 "nbformat_minor": 2
}
